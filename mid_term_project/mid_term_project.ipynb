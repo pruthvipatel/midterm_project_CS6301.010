{
 "cells": [
  {
   "cell_type": "raw",
   "metadata": {},
   "source": [
    "\n",
    "'''\n",
    "try all different classifiers on raw data-set benchmark\n",
    "preprocess and try again\n",
    "construct pipeline\n",
    "construct and visualize selection metrices\n",
    "perform cross-validation error\n",
    "'''"
   ]
  },
  {
   "cell_type": "code",
   "execution_count": 100,
   "metadata": {},
   "outputs": [],
   "source": [
    "import numpy as np\n",
    "import matplotlib.pyplot as plt\n",
    "import pandas as pd\n",
    "from sklearn.model_selection import train_test_split\n",
    "#357,401,547,1026,1112,1311,1320,1418,1892"
   ]
  },
  {
   "cell_type": "code",
   "execution_count": 69,
   "metadata": {},
   "outputs": [],
   "source": [
    "#load train and test\n",
    "train=pd.read_csv('./CS6301-S19-MidTermProject/bb_2000s_train.csv',delimiter=',',header=0)\n",
    "test=pd.read_csv('./CS6301-S19-MidTermProject/bb_2000s_test.csv',delimiter=',',header=0)"
   ]
  },
  {
   "cell_type": "code",
   "execution_count": 97,
   "metadata": {},
   "outputs": [],
   "source": [
    "train_y=train.iloc[:,-1]\n",
    "train_x=train.iloc[:,3:-1]\n"
   ]
  },
  {
   "cell_type": "code",
   "execution_count": 102,
   "metadata": {},
   "outputs": [],
   "source": [
    "#train, test and validation partition\n",
    "tst_frac=0.2\n",
    "val_frac=0.2\n",
    "X_trn, X_tst, y_trn, y_tst = train_test_split(train_x, train_y, test_size=tst_frac, \n",
    "                                                random_state=42)\n",
    "\n",
    "  \n",
    "X_trn, X_val, y_trn, y_val = train_test_split(X_trn, y_trn, test_size=val_frac, \n",
    "                                                random_state=42)"
   ]
  },
  {
   "cell_type": "code",
   "execution_count": 98,
   "metadata": {},
   "outputs": [
    {
     "data": {
      "text/html": [
       "<div>\n",
       "<style scoped>\n",
       "    .dataframe tbody tr th:only-of-type {\n",
       "        vertical-align: middle;\n",
       "    }\n",
       "\n",
       "    .dataframe tbody tr th {\n",
       "        vertical-align: top;\n",
       "    }\n",
       "\n",
       "    .dataframe thead th {\n",
       "        text-align: right;\n",
       "    }\n",
       "</style>\n",
       "<table border=\"1\" class=\"dataframe\">\n",
       "  <thead>\n",
       "    <tr style=\"text-align: right;\">\n",
       "      <th></th>\n",
       "      <th>PreviousHit</th>\n",
       "      <th>Danceability</th>\n",
       "      <th>Energy</th>\n",
       "      <th>Key</th>\n",
       "      <th>Loudness</th>\n",
       "      <th>Mode</th>\n",
       "      <th>Speechiness</th>\n",
       "      <th>Acousticness</th>\n",
       "      <th>Instrumentalness</th>\n",
       "      <th>Liveness</th>\n",
       "      <th>Valence</th>\n",
       "      <th>Tempo</th>\n",
       "    </tr>\n",
       "  </thead>\n",
       "  <tbody>\n",
       "    <tr>\n",
       "      <th>0</th>\n",
       "      <td>1</td>\n",
       "      <td>0.663</td>\n",
       "      <td>0.821</td>\n",
       "      <td>7</td>\n",
       "      <td>-4.557</td>\n",
       "      <td>1</td>\n",
       "      <td>0.0356</td>\n",
       "      <td>0.22900</td>\n",
       "      <td>0.000</td>\n",
       "      <td>0.2950</td>\n",
       "      <td>0.849</td>\n",
       "      <td>98.001</td>\n",
       "    </tr>\n",
       "    <tr>\n",
       "      <th>1</th>\n",
       "      <td>0</td>\n",
       "      <td>0.408</td>\n",
       "      <td>0.943</td>\n",
       "      <td>2</td>\n",
       "      <td>-4.675</td>\n",
       "      <td>1</td>\n",
       "      <td>0.0573</td>\n",
       "      <td>0.00251</td>\n",
       "      <td>0.908</td>\n",
       "      <td>0.3430</td>\n",
       "      <td>0.131</td>\n",
       "      <td>187.526</td>\n",
       "    </tr>\n",
       "    <tr>\n",
       "      <th>2</th>\n",
       "      <td>0</td>\n",
       "      <td>0.657</td>\n",
       "      <td>0.929</td>\n",
       "      <td>11</td>\n",
       "      <td>-7.104</td>\n",
       "      <td>0</td>\n",
       "      <td>0.0757</td>\n",
       "      <td>0.12400</td>\n",
       "      <td>0.000</td>\n",
       "      <td>0.0932</td>\n",
       "      <td>0.885</td>\n",
       "      <td>97.862</td>\n",
       "    </tr>\n",
       "    <tr>\n",
       "      <th>3</th>\n",
       "      <td>0</td>\n",
       "      <td>0.356</td>\n",
       "      <td>0.646</td>\n",
       "      <td>8</td>\n",
       "      <td>-11.852</td>\n",
       "      <td>1</td>\n",
       "      <td>0.0454</td>\n",
       "      <td>0.02200</td>\n",
       "      <td>0.760</td>\n",
       "      <td>0.1080</td>\n",
       "      <td>0.147</td>\n",
       "      <td>169.956</td>\n",
       "    </tr>\n",
       "  </tbody>\n",
       "</table>\n",
       "</div>"
      ],
      "text/plain": [
       "   PreviousHit  Danceability  Energy  Key  Loudness  Mode  Speechiness  \\\n",
       "0            1         0.663   0.821    7    -4.557     1       0.0356   \n",
       "1            0         0.408   0.943    2    -4.675     1       0.0573   \n",
       "2            0         0.657   0.929   11    -7.104     0       0.0757   \n",
       "3            0         0.356   0.646    8   -11.852     1       0.0454   \n",
       "\n",
       "   Acousticness  Instrumentalness  Liveness  Valence    Tempo  \n",
       "0       0.22900             0.000    0.2950    0.849   98.001  \n",
       "1       0.00251             0.908    0.3430    0.131  187.526  \n",
       "2       0.12400             0.000    0.0932    0.885   97.862  \n",
       "3       0.02200             0.760    0.1080    0.147  169.956  "
      ]
     },
     "execution_count": 98,
     "metadata": {},
     "output_type": "execute_result"
    }
   ],
   "source": [
    "test[0:4]"
   ]
  },
  {
   "cell_type": "code",
   "execution_count": 99,
   "metadata": {},
   "outputs": [
    {
     "data": {
      "text/html": [
       "<div>\n",
       "<style scoped>\n",
       "    .dataframe tbody tr th:only-of-type {\n",
       "        vertical-align: middle;\n",
       "    }\n",
       "\n",
       "    .dataframe tbody tr th {\n",
       "        vertical-align: top;\n",
       "    }\n",
       "\n",
       "    .dataframe thead th {\n",
       "        text-align: right;\n",
       "    }\n",
       "</style>\n",
       "<table border=\"1\" class=\"dataframe\">\n",
       "  <thead>\n",
       "    <tr style=\"text-align: right;\">\n",
       "      <th></th>\n",
       "      <th>PreviousHit</th>\n",
       "      <th>Danceability</th>\n",
       "      <th>Energy</th>\n",
       "      <th>Key</th>\n",
       "      <th>Loudness</th>\n",
       "      <th>Mode</th>\n",
       "      <th>Speechiness</th>\n",
       "      <th>Acousticness</th>\n",
       "      <th>Instrumentalness</th>\n",
       "      <th>Liveness</th>\n",
       "      <th>Valence</th>\n",
       "      <th>Tempo</th>\n",
       "    </tr>\n",
       "  </thead>\n",
       "  <tbody>\n",
       "    <tr>\n",
       "      <th>0</th>\n",
       "      <td>1</td>\n",
       "      <td>0.470</td>\n",
       "      <td>0.506</td>\n",
       "      <td>9</td>\n",
       "      <td>-7.976</td>\n",
       "      <td>1</td>\n",
       "      <td>0.0308</td>\n",
       "      <td>0.490000</td>\n",
       "      <td>0.000035</td>\n",
       "      <td>0.378</td>\n",
       "      <td>0.376</td>\n",
       "      <td>165.339</td>\n",
       "    </tr>\n",
       "    <tr>\n",
       "      <th>1</th>\n",
       "      <td>0</td>\n",
       "      <td>0.540</td>\n",
       "      <td>0.516</td>\n",
       "      <td>1</td>\n",
       "      <td>-5.221</td>\n",
       "      <td>1</td>\n",
       "      <td>0.0246</td>\n",
       "      <td>0.266000</td>\n",
       "      <td>0.000000</td>\n",
       "      <td>0.204</td>\n",
       "      <td>0.285</td>\n",
       "      <td>135.900</td>\n",
       "    </tr>\n",
       "    <tr>\n",
       "      <th>2</th>\n",
       "      <td>0</td>\n",
       "      <td>0.810</td>\n",
       "      <td>0.871</td>\n",
       "      <td>4</td>\n",
       "      <td>-2.672</td>\n",
       "      <td>0</td>\n",
       "      <td>0.2410</td>\n",
       "      <td>0.130000</td>\n",
       "      <td>0.000000</td>\n",
       "      <td>0.313</td>\n",
       "      <td>0.299</td>\n",
       "      <td>87.328</td>\n",
       "    </tr>\n",
       "    <tr>\n",
       "      <th>3</th>\n",
       "      <td>1</td>\n",
       "      <td>0.411</td>\n",
       "      <td>0.986</td>\n",
       "      <td>8</td>\n",
       "      <td>-2.522</td>\n",
       "      <td>0</td>\n",
       "      <td>0.0583</td>\n",
       "      <td>0.000264</td>\n",
       "      <td>0.001480</td>\n",
       "      <td>0.371</td>\n",
       "      <td>0.649</td>\n",
       "      <td>165.981</td>\n",
       "    </tr>\n",
       "  </tbody>\n",
       "</table>\n",
       "</div>"
      ],
      "text/plain": [
       "   PreviousHit  Danceability  Energy  Key  Loudness  Mode  Speechiness  \\\n",
       "0            1         0.470   0.506    9    -7.976     1       0.0308   \n",
       "1            0         0.540   0.516    1    -5.221     1       0.0246   \n",
       "2            0         0.810   0.871    4    -2.672     0       0.2410   \n",
       "3            1         0.411   0.986    8    -2.522     0       0.0583   \n",
       "\n",
       "   Acousticness  Instrumentalness  Liveness  Valence    Tempo  \n",
       "0      0.490000          0.000035     0.378    0.376  165.339  \n",
       "1      0.266000          0.000000     0.204    0.285  135.900  \n",
       "2      0.130000          0.000000     0.313    0.299   87.328  \n",
       "3      0.000264          0.001480     0.371    0.649  165.981  "
      ]
     },
     "execution_count": 99,
     "metadata": {},
     "output_type": "execute_result"
    }
   ],
   "source": [
    "train_x[0:4]"
   ]
  },
  {
   "cell_type": "code",
   "execution_count": 103,
   "metadata": {},
   "outputs": [],
   "source": [
    "#---------------------------------------------SVM-------------------------------------------------------------\n",
    "from sklearn.svm import SVC"
   ]
  },
  {
   "cell_type": "code",
   "execution_count": 104,
   "metadata": {},
   "outputs": [],
   "source": [
    "C_range = np.arange(-3.0, 6.0, 1.0)\n",
    "C_values = np.power(10.0, C_range)\n",
    "\n",
    "models = dict()\n",
    "trnErr = dict()\n",
    "valErr = dict()\n",
    "\n",
    "for C in C_values:\n",
    "  \n",
    "    clf=SVC(C=C,kernel='rbf',gamma='scale')\n",
    "    models[C]=clf.fit(X_trn,y_trn)\n",
    "    valErr[C]=1-clf.score(X_val,y_val) \n",
    "    trnErr[C]=1-clf.score(X_trn,y_trn)\n",
    "  "
   ]
  },
  {
   "cell_type": "code",
   "execution_count": 107,
   "metadata": {},
   "outputs": [
    {
     "name": "stdout",
     "output_type": "stream",
     "text": [
      "------------------Training errors C vs Gamma----------------------\n",
      "\n",
      "\n",
      "                   Gamma values                        \n",
      "\n",
      "\n",
      "\t0.001\t0.01\t0.1\t1.0\t10.0\t100.0\n",
      "0.01\n",
      "\t0.38296\t0.38296\t0.38296\t0.38296\t0.38296\t0.38296\n",
      "\n",
      "0.1\n",
      "\t0.38296\t0.38296\t0.38296\t0.38296\t0.38296\t0.38296\n",
      "\n",
      "1.0\n",
      "\t0.38296\t0.31762\t0.18776\t0.00744\t0.0\t0.0\n",
      "\n",
      "10.0\n",
      "\t0.25393\t0.21257\t0.03805\t0.0\t0.0\t0.0\n",
      "\n",
      "100.0\n",
      "\t0.23739\t0.14392\t0.0\t0.0\t0.0\t0.0\n",
      "\n",
      "1000.0\n",
      "\t0.22994\t0.07361\t0.0\t0.0\t0.0\t0.0\n",
      "\n",
      "10000.0\n",
      "\t0.18776\t0.02399\t0.0\t0.0\t0.0\t0.0\n",
      "\n",
      "\n",
      "\n",
      "\n",
      "\n",
      "------------------Validation errors  C vs Gamma----------------------\n",
      "\n",
      "\n",
      "                   Gamma values                        \n",
      "\n",
      "\n",
      "\t0.001\t0.01\t0.1\t1.0\t10.0\t100.0\n",
      "0.01\n",
      "\t0.39274\t0.39274\t0.39274\t0.39274\t0.39274\t0.39274\n",
      "\n",
      "0.1\n",
      "\t0.39274\t0.39274\t0.39274\t0.39274\t0.39274\t0.39274\n",
      "\n",
      "1.0\n",
      "\t0.39274\t0.33003\t0.34323\t0.37954\t0.39274\t0.39274\n",
      "\n",
      "10.0\n",
      "\t0.24422\t0.25413\t0.32013\t0.38284\t0.39274\t0.39274\n",
      "\n",
      "100.0\n",
      "\t0.25413\t0.29043\t0.36634\t0.38284\t0.39274\t0.39274\n",
      "\n",
      "1000.0\n",
      "\t0.24092\t0.29373\t0.36304\t0.38284\t0.39274\t0.39274\n",
      "\n",
      "10000.0\n",
      "\t0.23432\t0.31683\t0.36304\t0.38284\t0.39274\t0.39274\n",
      "\n",
      "\n",
      "\n",
      "\n",
      "\n",
      "best set of values for C and gamma respectively are=\n",
      "[(10000.0, 0.001)]\n",
      "Test error for the best C and gamma is =\n",
      "0.21108179419525064\n"
     ]
    }
   ],
   "source": [
    "gamma_range = np.arange(-3.0, 3.0, 1.0)\n",
    "gamma_values = np.power(10.0, gamma_range)\n",
    "C_range = np.arange(-2.0, 5.0, 1.0)\n",
    "C_values = np.power(10.0, C_range)\n",
    "\n",
    "models = dict()\n",
    "trnErr = dict()\n",
    "valErr = dict()\n",
    "\n",
    "\n",
    "print ('------------------Training errors C vs Gamma----------------------')\n",
    "print ('\\n')\n",
    "print ('                   Gamma values                        ')\n",
    "print ('\\n')\n",
    "print ('\\t',end='')\n",
    "print('\\t'.join(map(str,gamma_values)))\n",
    "for C in C_values:\n",
    "    print (C)\n",
    "    for G in gamma_values:\n",
    "        clf=SVC(C=C,kernel='rbf',gamma=G)\n",
    "        models[(C,G)]=clf.fit(X_trn,y_trn)\n",
    "        valErr[(C,G)]=1-clf.score(X_val,y_val)\n",
    "        trnErr[(C,G)]=1-clf.score(X_trn,y_trn)\n",
    "        \n",
    "        print ('\\t'+str(np.round(trnErr[(C,G)],decimals=5)),end='')\n",
    "    print ('\\n')   \n",
    "\n",
    "\n",
    "print ('\\n\\n\\n')\n",
    "print ('------------------Validation errors  C vs Gamma----------------------')\n",
    "print ('\\n')\n",
    "print ('                   Gamma values                        ')\n",
    "print ('\\n')\n",
    "print ('\\t',end='')\n",
    "print('\\t'.join(map(str,gamma_values)))\n",
    "for C in C_values:\n",
    "    print (C)\n",
    "    for G in gamma_values:\n",
    "        print ('\\t'+str(np.round(valErr[(C,G)],decimals=5)),end='')\n",
    "    print ('\\n') \n",
    "    \n",
    "temp=min(valErr.values())\n",
    "best_params=[param for param,score in valErr.items() if score==temp]\n",
    "\n",
    "print ('\\n\\n\\n')\n",
    "print ('best set of values for C and gamma respectively are=')\n",
    "print (best_params)\n",
    "print ('Test error for the best C and gamma is =')\n",
    "print (1-models[best_params[0]].score(X_tst,y_tst))"
   ]
  },
  {
   "cell_type": "code",
   "execution_count": 108,
   "metadata": {},
   "outputs": [],
   "source": [
    "#KNN \n",
    "from sklearn.neighbors import KNeighborsClassifier"
   ]
  },
  {
   "cell_type": "code",
   "execution_count": 110,
   "metadata": {},
   "outputs": [
    {
     "data": {
      "image/png": "[encoded data removed]",
      "text/plain": [
       "<Figure size 432x288 with 1 Axes>"
      ]
     },
     "metadata": {
      "needs_background": "light"
     },
     "output_type": "display_data"
    },
    {
     "name": "stdout",
     "output_type": "stream",
     "text": [
      "best model is one with number of neighbors=\n",
      "[1]\n",
      "Test error corresponding to best k is :\n",
      "0.3720316622691293\n"
     ]
    }
   ],
   "source": [
    "k_list=[1,5,11,15,21]\n",
    "kModels=dict()\n",
    "kValErr=dict()\n",
    "kTrnErr=dict()\n",
    "\n",
    "\n",
    "for k in k_list:\n",
    "    neigh = KNeighborsClassifier(n_neighbors=k, algorithm='kd_tree')\n",
    "    kModels[k]=neigh.fit(X_trn,y_trn)\n",
    "    kValErr[k]=1-neigh.score(X_val,y_val)\n",
    "    kTrnErr[k]=1-neigh.score(X_trn,y_trn)\n",
    "\n",
    "\n",
    "\n",
    "plt.figure()\n",
    "plt.plot(kValErr.keys(), kValErr.values(), marker='o', linewidth=3, markersize=12)\n",
    "plt.plot(kTrnErr.keys(), kTrnErr.values(), marker='s', linewidth=3, markersize=12)\n",
    "plt.xlabel('No. of neighbors', fontsize=16)\n",
    "plt.ylabel('Train/Validation Score', fontsize=16)\n",
    "plt.xticks(list(kValErr.keys()), fontsize=12)\n",
    "plt.legend(['Validation Error', 'Train Error'], fontsize=16)\n",
    "plt.axis([0, 22, -1, 1])\n",
    "\n",
    "plt.show()\n",
    "\n",
    "temp=min(kValErr.values())\n",
    "best_k=[param for param,score in kValErr.items() if score==temp]\n",
    "print ('best model is one with number of neighbors=')\n",
    "print (best_k)\n",
    "\n",
    "print ('Test error corresponding to best k is :')\n",
    "print (1-kModels[best_k[0]].score(X_tst,y_tst))"
   ]
  },
  {
   "cell_type": "code",
   "execution_count": 112,
   "metadata": {},
   "outputs": [],
   "source": [
    "#random forest\n",
    "from sklearn.ensemble import RandomForestClassifier"
   ]
  },
  {
   "cell_type": "code",
   "execution_count": 114,
   "metadata": {},
   "outputs": [
    {
     "name": "stdout",
     "output_type": "stream",
     "text": [
      "0.24752475247524752\n"
     ]
    }
   ],
   "source": [
    "clf = RandomForestClassifier(n_estimators=100, max_depth=2,random_state=0)\n",
    "rfmodel=clf.fit(X_trn,y_trn)\n",
    "rfTrnErr=1-clf.score(X_trn,y_trn)\n",
    "rfValErr=1-clf.score(X_val,y_val)\n",
    "print (rfValErr)"
   ]
  },
  {
   "cell_type": "code",
   "execution_count": 117,
   "metadata": {},
   "outputs": [],
   "source": [
    "#naive bayes\n",
    "from sklearn.naive_bayes import GaussianNB"
   ]
  },
  {
   "cell_type": "code",
   "execution_count": 119,
   "metadata": {},
   "outputs": [
    {
     "name": "stdout",
     "output_type": "stream",
     "text": [
      "0.35973597359735976\n"
     ]
    }
   ],
   "source": [
    "clf=GaussianNB()\n",
    "nbmodel=clf.fit(X_trn,y_trn)\n",
    "nbTrnErr=1-clf.score(X_trn,y_trn)\n",
    "nbValErr=1-clf.score(X_val,y_val)\n",
    "print (nbValErr)"
   ]
  },
  {
   "cell_type": "code",
   "execution_count": 116,
   "metadata": {},
   "outputs": [],
   "source": [
    "#logistic regression\n",
    "from sklearn.linear_model import LogisticRegression"
   ]
  },
  {
   "cell_type": "code",
   "execution_count": 120,
   "metadata": {},
   "outputs": [
    {
     "name": "stdout",
     "output_type": "stream",
     "text": [
      "0.24752475247524752\n"
     ]
    }
   ],
   "source": [
    "clf = LogisticRegression(random_state=0, solver='liblinear')\n",
    "lrmodel=clf.fit(X_trn,y_trn)\n",
    "lrTrnErr=1-clf.score(X_trn,y_trn)\n",
    "lrValErr=1-clf.score(X_val,y_val)\n",
    "print (lrValErr)"
   ]
  },
  {
   "cell_type": "code",
   "execution_count": 122,
   "metadata": {},
   "outputs": [],
   "source": [
    "#Boosting\n",
    "from xgboost import XGBClassifier"
   ]
  },
  {
   "cell_type": "code",
   "execution_count": 123,
   "metadata": {},
   "outputs": [
    {
     "name": "stdout",
     "output_type": "stream",
     "text": [
      "0.2178217821782178\n"
     ]
    }
   ],
   "source": [
    "clf=XGBClassifier()\n",
    "xgbmodel=clf.fit(X_trn,y_trn)\n",
    "xgbTrnErr=1-clf.score(X_trn,y_trn)\n",
    "xgbValErr=1-clf.score(X_val,y_val)\n",
    "print (xgbValErr)"
   ]
  },
  {
   "cell_type": "code",
   "execution_count": null,
   "metadata": {},
   "outputs": [],
   "source": []
  }
 ],
 "metadata": {
  "kernelspec": {
   "display_name": "Python 3",
   "language": "python",
   "name": "python3"
  },
  "language_info": {
   "codemirror_mode": {
    "name": "ipython",
    "version": 3
   },
   "file_extension": ".py",
   "mimetype": "text/x-python",
   "name": "python",
   "nbconvert_exporter": "python",
   "pygments_lexer": "ipython3",
   "version": "3.6.8"
  }
 },
 "nbformat": 4,
 "nbformat_minor": 2
}
