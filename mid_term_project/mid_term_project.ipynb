{
 "cells": [
  {
   "cell_type": "raw",
   "metadata": {},
   "source": [
    "\n",
    "'''\n",
    "try all different classifiers on raw data-set benchmark\n",
    "preprocess and try again\n",
    "construct pipeline\n",
    "construct and visualize selection metrices\n",
    "perform cross-validation error\n",
    "'''"
   ]
  },
  {
   "cell_type": "code",
   "execution_count": 1,
   "metadata": {},
   "outputs": [],
   "source": [
    "import numpy as np\n",
    "import matplotlib.pyplot as plt\n",
    "import pandas as pd\n",
    "from sklearn.model_selection import train_test_split\n",
    "\n",
    "\n",
    "#change1___added libraries\n",
    "from sklearn import preprocessing\n",
    "from sklearn import metrics\n",
    "from sklearn.model_selection import cross_val_score"
   ]
  },
  {
   "cell_type": "code",
   "execution_count": 3,
   "metadata": {},
   "outputs": [],
   "source": [
    "#load train and test\n",
    "train=pd.read_csv('./CS6301-S19-MidTermProject/bb_2000s_train.csv',delimiter=',',header=0)\n",
    "test=pd.read_csv('./CS6301-S19-MidTermProject/bb_2000s_test.csv',delimiter=',',header=0)"
   ]
  },
  {
   "cell_type": "code",
   "execution_count": 4,
   "metadata": {},
   "outputs": [],
   "source": [
    "train_y=train.iloc[:,-1]\n",
    "train_x=train.iloc[:,3:-1]\n",
    "\n",
    "#change2____added below line\n",
    "train_norm_x = preprocessing.normalize(train_x, axis =0)"
   ]
  },
  {
   "cell_type": "code",
   "execution_count": 5,
   "metadata": {},
   "outputs": [],
   "source": [
    "#train, test and validation partition\n",
    "tst_frac=0.2\n",
    "val_frac=0.2\n",
    "\n",
    "\n",
    "#change3_____train_x changed to train_norm_x\n",
    "#X_trn, X_tst, y_trn, y_tst = train_test_split(train_x, train_y, test_size=tst_frac,random_state=42)\n",
    "X_trn, X_tst, y_trn, y_tst = train_test_split(train_norm_x, train_y, test_size=tst_frac,random_state=42)\n",
    "\n",
    "  \n",
    "X_trn, X_val, y_trn, y_val = train_test_split(X_trn, y_trn, test_size=val_frac,random_state=42)"
   ]
  },
  {
   "cell_type": "code",
   "execution_count": 6,
   "metadata": {},
   "outputs": [
    {
     "data": {
      "text/html": [
       "<div>\n",
       "<style scoped>\n",
       "    .dataframe tbody tr th:only-of-type {\n",
       "        vertical-align: middle;\n",
       "    }\n",
       "\n",
       "    .dataframe tbody tr th {\n",
       "        vertical-align: top;\n",
       "    }\n",
       "\n",
       "    .dataframe thead th {\n",
       "        text-align: right;\n",
       "    }\n",
       "</style>\n",
       "<table border=\"1\" class=\"dataframe\">\n",
       "  <thead>\n",
       "    <tr style=\"text-align: right;\">\n",
       "      <th></th>\n",
       "      <th>PreviousHit</th>\n",
       "      <th>Danceability</th>\n",
       "      <th>Energy</th>\n",
       "      <th>Key</th>\n",
       "      <th>Loudness</th>\n",
       "      <th>Mode</th>\n",
       "      <th>Speechiness</th>\n",
       "      <th>Acousticness</th>\n",
       "      <th>Instrumentalness</th>\n",
       "      <th>Liveness</th>\n",
       "      <th>Valence</th>\n",
       "      <th>Tempo</th>\n",
       "    </tr>\n",
       "  </thead>\n",
       "  <tbody>\n",
       "    <tr>\n",
       "      <th>0</th>\n",
       "      <td>1</td>\n",
       "      <td>0.663</td>\n",
       "      <td>0.821</td>\n",
       "      <td>7</td>\n",
       "      <td>-4.557</td>\n",
       "      <td>1</td>\n",
       "      <td>0.0356</td>\n",
       "      <td>0.22900</td>\n",
       "      <td>0.000</td>\n",
       "      <td>0.2950</td>\n",
       "      <td>0.849</td>\n",
       "      <td>98.001</td>\n",
       "    </tr>\n",
       "    <tr>\n",
       "      <th>1</th>\n",
       "      <td>0</td>\n",
       "      <td>0.408</td>\n",
       "      <td>0.943</td>\n",
       "      <td>2</td>\n",
       "      <td>-4.675</td>\n",
       "      <td>1</td>\n",
       "      <td>0.0573</td>\n",
       "      <td>0.00251</td>\n",
       "      <td>0.908</td>\n",
       "      <td>0.3430</td>\n",
       "      <td>0.131</td>\n",
       "      <td>187.526</td>\n",
       "    </tr>\n",
       "    <tr>\n",
       "      <th>2</th>\n",
       "      <td>0</td>\n",
       "      <td>0.657</td>\n",
       "      <td>0.929</td>\n",
       "      <td>11</td>\n",
       "      <td>-7.104</td>\n",
       "      <td>0</td>\n",
       "      <td>0.0757</td>\n",
       "      <td>0.12400</td>\n",
       "      <td>0.000</td>\n",
       "      <td>0.0932</td>\n",
       "      <td>0.885</td>\n",
       "      <td>97.862</td>\n",
       "    </tr>\n",
       "    <tr>\n",
       "      <th>3</th>\n",
       "      <td>0</td>\n",
       "      <td>0.356</td>\n",
       "      <td>0.646</td>\n",
       "      <td>8</td>\n",
       "      <td>-11.852</td>\n",
       "      <td>1</td>\n",
       "      <td>0.0454</td>\n",
       "      <td>0.02200</td>\n",
       "      <td>0.760</td>\n",
       "      <td>0.1080</td>\n",
       "      <td>0.147</td>\n",
       "      <td>169.956</td>\n",
       "    </tr>\n",
       "  </tbody>\n",
       "</table>\n",
       "</div>"
      ],
      "text/plain": [
       "   PreviousHit  Danceability  Energy  Key  Loudness  Mode  Speechiness  \\\n",
       "0            1         0.663   0.821    7    -4.557     1       0.0356   \n",
       "1            0         0.408   0.943    2    -4.675     1       0.0573   \n",
       "2            0         0.657   0.929   11    -7.104     0       0.0757   \n",
       "3            0         0.356   0.646    8   -11.852     1       0.0454   \n",
       "\n",
       "   Acousticness  Instrumentalness  Liveness  Valence    Tempo  \n",
       "0       0.22900             0.000    0.2950    0.849   98.001  \n",
       "1       0.00251             0.908    0.3430    0.131  187.526  \n",
       "2       0.12400             0.000    0.0932    0.885   97.862  \n",
       "3       0.02200             0.760    0.1080    0.147  169.956  "
      ]
     },
     "execution_count": 6,
     "metadata": {},
     "output_type": "execute_result"
    }
   ],
   "source": [
    "test[0:4]"
   ]
  },
  {
   "cell_type": "code",
   "execution_count": 7,
   "metadata": {},
   "outputs": [
    {
     "data": {
      "text/html": [
       "<div>\n",
       "<style scoped>\n",
       "    .dataframe tbody tr th:only-of-type {\n",
       "        vertical-align: middle;\n",
       "    }\n",
       "\n",
       "    .dataframe tbody tr th {\n",
       "        vertical-align: top;\n",
       "    }\n",
       "\n",
       "    .dataframe thead th {\n",
       "        text-align: right;\n",
       "    }\n",
       "</style>\n",
       "<table border=\"1\" class=\"dataframe\">\n",
       "  <thead>\n",
       "    <tr style=\"text-align: right;\">\n",
       "      <th></th>\n",
       "      <th>PreviousHit</th>\n",
       "      <th>Danceability</th>\n",
       "      <th>Energy</th>\n",
       "      <th>Key</th>\n",
       "      <th>Loudness</th>\n",
       "      <th>Mode</th>\n",
       "      <th>Speechiness</th>\n",
       "      <th>Acousticness</th>\n",
       "      <th>Instrumentalness</th>\n",
       "      <th>Liveness</th>\n",
       "      <th>Valence</th>\n",
       "      <th>Tempo</th>\n",
       "    </tr>\n",
       "  </thead>\n",
       "  <tbody>\n",
       "    <tr>\n",
       "      <th>0</th>\n",
       "      <td>1</td>\n",
       "      <td>0.470</td>\n",
       "      <td>0.506</td>\n",
       "      <td>9</td>\n",
       "      <td>-7.976</td>\n",
       "      <td>1</td>\n",
       "      <td>0.0308</td>\n",
       "      <td>0.490000</td>\n",
       "      <td>0.000035</td>\n",
       "      <td>0.378</td>\n",
       "      <td>0.376</td>\n",
       "      <td>165.339</td>\n",
       "    </tr>\n",
       "    <tr>\n",
       "      <th>1</th>\n",
       "      <td>0</td>\n",
       "      <td>0.540</td>\n",
       "      <td>0.516</td>\n",
       "      <td>1</td>\n",
       "      <td>-5.221</td>\n",
       "      <td>1</td>\n",
       "      <td>0.0246</td>\n",
       "      <td>0.266000</td>\n",
       "      <td>0.000000</td>\n",
       "      <td>0.204</td>\n",
       "      <td>0.285</td>\n",
       "      <td>135.900</td>\n",
       "    </tr>\n",
       "    <tr>\n",
       "      <th>2</th>\n",
       "      <td>0</td>\n",
       "      <td>0.810</td>\n",
       "      <td>0.871</td>\n",
       "      <td>4</td>\n",
       "      <td>-2.672</td>\n",
       "      <td>0</td>\n",
       "      <td>0.2410</td>\n",
       "      <td>0.130000</td>\n",
       "      <td>0.000000</td>\n",
       "      <td>0.313</td>\n",
       "      <td>0.299</td>\n",
       "      <td>87.328</td>\n",
       "    </tr>\n",
       "    <tr>\n",
       "      <th>3</th>\n",
       "      <td>1</td>\n",
       "      <td>0.411</td>\n",
       "      <td>0.986</td>\n",
       "      <td>8</td>\n",
       "      <td>-2.522</td>\n",
       "      <td>0</td>\n",
       "      <td>0.0583</td>\n",
       "      <td>0.000264</td>\n",
       "      <td>0.001480</td>\n",
       "      <td>0.371</td>\n",
       "      <td>0.649</td>\n",
       "      <td>165.981</td>\n",
       "    </tr>\n",
       "  </tbody>\n",
       "</table>\n",
       "</div>"
      ],
      "text/plain": [
       "   PreviousHit  Danceability  Energy  Key  Loudness  Mode  Speechiness  \\\n",
       "0            1         0.470   0.506    9    -7.976     1       0.0308   \n",
       "1            0         0.540   0.516    1    -5.221     1       0.0246   \n",
       "2            0         0.810   0.871    4    -2.672     0       0.2410   \n",
       "3            1         0.411   0.986    8    -2.522     0       0.0583   \n",
       "\n",
       "   Acousticness  Instrumentalness  Liveness  Valence    Tempo  \n",
       "0      0.490000          0.000035     0.378    0.376  165.339  \n",
       "1      0.266000          0.000000     0.204    0.285  135.900  \n",
       "2      0.130000          0.000000     0.313    0.299   87.328  \n",
       "3      0.000264          0.001480     0.371    0.649  165.981  "
      ]
     },
     "execution_count": 7,
     "metadata": {},
     "output_type": "execute_result"
    }
   ],
   "source": [
    "train_x[0:4]"
   ]
  },
  {
   "cell_type": "code",
   "execution_count": 8,
   "metadata": {},
   "outputs": [],
   "source": [
    "#---------------------------------------------SVM-------------------------------------------------------------\n",
    "from sklearn.svm import SVC"
   ]
  },
  {
   "cell_type": "code",
   "execution_count": 9,
   "metadata": {},
   "outputs": [],
   "source": [
    "C_range = np.arange(-3.0, 6.0, 1.0)\n",
    "C_values = np.power(10.0, C_range)\n",
    "\n",
    "models = dict()\n",
    "trnErr = dict()\n",
    "valErr = dict()\n",
    "\n",
    "for C in C_values:\n",
    "  \n",
    "    clf=SVC(C=C,kernel='rbf',gamma='scale')\n",
    "    models[C]=clf.fit(X_trn,y_trn)\n",
    "    valErr[C]=1-clf.score(X_val,y_val) \n",
    "    trnErr[C]=1-clf.score(X_trn,y_trn)\n",
    "  "
   ]
  },
  {
   "cell_type": "code",
   "execution_count": 10,
   "metadata": {},
   "outputs": [
    {
     "name": "stdout",
     "output_type": "stream",
     "text": [
      "------------------Training errors C vs Gamma----------------------\n",
      "\n",
      "\n",
      "                   Gamma values                        \n",
      "\n",
      "\n",
      "\t0.001\t0.01\t0.1\t1.0\t10.0\t100.0\n",
      "0.01\n",
      "\t0.38296\t0.38296\t0.38296\t0.38296\t0.38296\t0.38296\n",
      "\n",
      "0.1\n",
      "\t0.38296\t0.38296\t0.38296\t0.38296\t0.38296\t0.244\n",
      "\n",
      "1.0\n",
      "\t0.38296\t0.38296\t0.38296\t0.38296\t0.244\t0.24318\n",
      "\n",
      "10.0\n",
      "\t0.38296\t0.38296\t0.38296\t0.244\t0.244\t0.23987\n",
      "\n",
      "100.0\n",
      "\t0.38296\t0.38296\t0.244\t0.244\t0.244\t0.1952\n",
      "\n",
      "1000.0\n",
      "\t0.38296\t0.244\t0.244\t0.244\t0.24152\t0.14888\n",
      "\n",
      "10000.0\n",
      "\t0.244\t0.244\t0.244\t0.244\t0.20347\t0.08437\n",
      "\n",
      "\n",
      "\n",
      "\n",
      "\n",
      "------------------Validation errors  C vs Gamma----------------------\n",
      "\n",
      "\n",
      "                   Gamma values                        \n",
      "\n",
      "\n",
      "\t0.001\t0.01\t0.1\t1.0\t10.0\t100.0\n",
      "0.01\n",
      "\t0.39274\t0.39274\t0.39274\t0.39274\t0.39274\t0.39274\n",
      "\n",
      "0.1\n",
      "\t0.39274\t0.39274\t0.39274\t0.39274\t0.39274\t0.25083\n",
      "\n",
      "1.0\n",
      "\t0.39274\t0.39274\t0.39274\t0.39274\t0.25083\t0.25083\n",
      "\n",
      "10.0\n",
      "\t0.39274\t0.39274\t0.39274\t0.25083\t0.25083\t0.25413\n",
      "\n",
      "100.0\n",
      "\t0.39274\t0.39274\t0.25083\t0.25083\t0.25083\t0.23762\n",
      "\n",
      "1000.0\n",
      "\t0.39274\t0.25083\t0.25083\t0.25083\t0.25413\t0.26733\n",
      "\n",
      "10000.0\n",
      "\t0.25083\t0.25083\t0.25083\t0.25083\t0.24092\t0.27063\n",
      "\n",
      "\n",
      "\n",
      "\n",
      "\n",
      "best set of values for C and gamma respectively are=\n",
      "[(100.0, 100.0)]\n",
      "Test error for the best C and gamma is =\n",
      "0.2058047493403694\n"
     ]
    }
   ],
   "source": [
    "gamma_range = np.arange(-3.0, 3.0, 1.0)\n",
    "gamma_values = np.power(10.0, gamma_range)\n",
    "C_range = np.arange(-2.0, 5.0, 1.0)\n",
    "C_values = np.power(10.0, C_range)\n",
    "\n",
    "models = dict()\n",
    "trnErr = dict()\n",
    "valErr = dict()\n",
    "\n",
    "\n",
    "print ('------------------Training errors C vs Gamma----------------------')\n",
    "print ('\\n')\n",
    "print ('                   Gamma values                        ')\n",
    "print ('\\n')\n",
    "print ('\\t',end='')\n",
    "print('\\t'.join(map(str,gamma_values)))\n",
    "for C in C_values:\n",
    "    print (C)\n",
    "    for G in gamma_values:\n",
    "        clf=SVC(C=C,kernel='rbf',gamma=G)\n",
    "        models[(C,G)]=clf.fit(X_trn,y_trn)\n",
    "        valErr[(C,G)]=1-clf.score(X_val,y_val)\n",
    "        trnErr[(C,G)]=1-clf.score(X_trn,y_trn)\n",
    "        \n",
    "        print ('\\t'+str(np.round(trnErr[(C,G)],decimals=5)),end='')\n",
    "    print ('\\n')   \n",
    "\n",
    "\n",
    "print ('\\n\\n\\n')\n",
    "print ('------------------Validation errors  C vs Gamma----------------------')\n",
    "print ('\\n')\n",
    "print ('                   Gamma values                        ')\n",
    "print ('\\n')\n",
    "print ('\\t',end='')\n",
    "print('\\t'.join(map(str,gamma_values)))\n",
    "for C in C_values:\n",
    "    print (C)\n",
    "    for G in gamma_values:\n",
    "        print ('\\t'+str(np.round(valErr[(C,G)],decimals=5)),end='')\n",
    "    print ('\\n') \n",
    "    \n",
    "temp=min(valErr.values())\n",
    "best_params=[param for param,score in valErr.items() if score==temp]\n",
    "\n",
    "print ('\\n\\n\\n')\n",
    "print ('best set of values for C and gamma respectively are=')\n",
    "print (best_params)\n",
    "print ('Test error for the best C and gamma is =')\n",
    "print (1-models[best_params[0]].score(X_tst,y_tst))"
   ]
  },
  {
   "cell_type": "code",
   "execution_count": 11,
   "metadata": {},
   "outputs": [],
   "source": [
    "#High value of C suggests that the model is highly non-linear"
   ]
  },
  {
   "cell_type": "code",
   "execution_count": 12,
   "metadata": {},
   "outputs": [],
   "source": [
    "#KNN \n",
    "from sklearn.neighbors import KNeighborsClassifier"
   ]
  },
  {
   "cell_type": "code",
   "execution_count": 13,
   "metadata": {},
   "outputs": [
    {
     "data": {
      "image/png": "[encoded data removed]",
      "text/plain": [
       "<Figure size 432x288 with 1 Axes>"
      ]
     },
     "metadata": {
      "needs_background": "light"
     },
     "output_type": "display_data"
    },
    {
     "name": "stdout",
     "output_type": "stream",
     "text": [
      "best model is one with number of neighbors=\n",
      "[17]\n",
      "Test error corresponding to best_k is :\n",
      "0.2058047493403694\n"
     ]
    }
   ],
   "source": [
    "#change______________________________________________________\n",
    "#k_list=[1,5,11,15,21]\n",
    "k_range = np.arange(5, 21, 1)\n",
    "\n",
    "kModels=dict()\n",
    "kValErr=dict()\n",
    "kCValErr=dict()\n",
    "kTrnErr=dict()\n",
    "\n",
    "#change______________________________________________________\n",
    "#for k in k_list:\n",
    "for k in k_range:\n",
    "    neigh = KNeighborsClassifier(n_neighbors=k, algorithm='kd_tree')\n",
    "    kModels[k]=neigh.fit(X_trn,y_trn)\n",
    "    kValErr[k]=1-neigh.score(X_val,y_val)\n",
    "    kCValErr[k] = 1- np.mean(cross_val_score(neigh,X_trn,y_trn, cv=10))\n",
    "    kTrnErr[k]=1-neigh.score(X_trn,y_trn)\n",
    "\n",
    "\n",
    "\n",
    "plt.figure()\n",
    "plt.plot(kValErr.keys(), kValErr.values(), marker='o', linewidth=3, markersize=12)\n",
    "plt.plot(kCValErr.keys(), kCValErr.values(), marker='d', linewidth=3, markersize=12)\n",
    "plt.plot(kTrnErr.keys(), kTrnErr.values(), marker='s', linewidth=3, markersize=12)\n",
    "plt.xlabel('No. of neighbors', fontsize=16)\n",
    "plt.ylabel('Train/Validation Score', fontsize=16)\n",
    "plt.xticks(list(kValErr.keys()), fontsize=12)\n",
    "plt.legend(['Validation Error','Cross-Validation Error', 'Train Error'], fontsize=16)\n",
    "#change__________________removed the below line\n",
    "#plt.axis([0, 22, -1, 1])\n",
    "\n",
    "plt.show()\n",
    "\n",
    "#temp=min(kValErr.values())\n",
    "temp=min(kCValErr.values())\n",
    "#best_k=[param for param,score in kValErr.items() if score==temp]\n",
    "best_k=[param for param,score in kCValErr.items() if score==temp]\n",
    "print ('best model is one with number of neighbors=')\n",
    "print (best_k)\n",
    "\n",
    "print ('Test error corresponding to best_k is :')\n",
    "print (1-kModels[best_k[0]].score(X_tst,y_tst))"
   ]
  },
  {
   "cell_type": "code",
   "execution_count": 14,
   "metadata": {},
   "outputs": [
    {
     "name": "stdout",
     "output_type": "stream",
     "text": [
      "0.2058047493403694\n"
     ]
    }
   ],
   "source": [
    "#change______________\n",
    "k_best = best_k[0]\n",
    "clf = KNeighborsClassifier(n_neighbors=k_best, algorithm='kd_tree')\n",
    "knmodel=clf.fit(X_trn,y_trn) \n",
    "print (1-knmodel.score(X_tst,y_tst))\n",
    "\n",
    "predict_proba = knmodel.predict_proba(X_tst)\n",
    "fpr_kn, tpr_kn, thresholds_kn = metrics.roc_curve(y_tst, predict_proba[:,1])\n",
    "roc_auc_kn = metrics.auc(fpr_kn, tpr_kn)"
   ]
  },
  {
   "cell_type": "code",
   "execution_count": 15,
   "metadata": {},
   "outputs": [],
   "source": [
    "# Low number of neighbors also indicate a highly non-linear model"
   ]
  },
  {
   "cell_type": "code",
   "execution_count": 16,
   "metadata": {},
   "outputs": [],
   "source": [
    "#random forest\n",
    "from sklearn.ensemble import RandomForestClassifier"
   ]
  },
  {
   "cell_type": "code",
   "execution_count": 17,
   "metadata": {},
   "outputs": [
    {
     "data": {
      "image/png": "[encoded data removed]",
      "text/plain": [
       "<Figure size 432x288 with 1 Axes>"
      ]
     },
     "metadata": {
      "needs_background": "light"
     },
     "output_type": "display_data"
    },
    {
     "name": "stdout",
     "output_type": "stream",
     "text": [
      "best model is one with max_depth=\n",
      "[9]\n",
      "Test error corresponding to this model is :\n",
      "0.19261213720316628\n"
     ]
    }
   ],
   "source": [
    "d_range = np.arange(2, 10, 1)\n",
    "\n",
    "rfModels=dict()\n",
    "rfValErr=dict()\n",
    "rfCValErr=dict()\n",
    "rfTrnErr=dict()\n",
    "\n",
    "\n",
    "for d in d_range:\n",
    "    clf = RandomForestClassifier(n_estimators=100, max_depth=d,random_state=0,max_features=4)\n",
    "    rfModels[d]=clf.fit(X_trn,y_trn)\n",
    "    rfTrnErr[d]=1-clf.score(X_trn,y_trn)\n",
    "    rfCValErr[d] = 1- np.mean(cross_val_score(clf,X_trn,y_trn, cv=10))\n",
    "    rfValErr[d]=1-clf.score(X_val,y_val)\n",
    "\n",
    "plt.figure()\n",
    "plt.plot(rfValErr.keys(), rfValErr.values(), marker='o', linewidth=3, markersize=12)\n",
    "plt.plot(rfCValErr.keys(), rfCValErr.values(), marker='d', linewidth=3, markersize=12)\n",
    "plt.plot(rfTrnErr.keys(), rfTrnErr.values(), marker='s', linewidth=3, markersize=12)\n",
    "plt.xlabel('max_depth', fontsize=16)\n",
    "plt.ylabel('Train/Validation Score', fontsize=16)\n",
    "plt.xticks(list(rfValErr.keys()), fontsize=12)\n",
    "plt.legend(['Validation Error','Cross-Validation Error', 'Train Error'], fontsize=16)\n",
    "#change____________________________________________________________\n",
    "#plt.axis([1, 11, 0, 0.5])\n",
    "\n",
    "plt.show()\n",
    "\n",
    "#temp=min(rfValErr.values())\n",
    "temp=min(rfCValErr.values())\n",
    "#best_d=[param for param,score in rfValErr.items() if score==temp]\n",
    "best_d=[param for param,score in rfCValErr.items() if score==temp]\n",
    "print ('best model is one with max_depth=')\n",
    "print (best_d)\n",
    "\n",
    "print ('Test error corresponding to this model is :')\n",
    "print (1-rfModels[best_d[0]].score(X_tst,y_tst))"
   ]
  },
  {
   "cell_type": "code",
   "execution_count": 18,
   "metadata": {},
   "outputs": [
    {
     "name": "stdout",
     "output_type": "stream",
     "text": [
      "0.19261213720316628\n"
     ]
    }
   ],
   "source": [
    "clf = RandomForestClassifier(n_estimators=100, max_depth=best_d[0],random_state=0,max_features=4)\n",
    "rfmodel=clf.fit(X_trn,y_trn) \n",
    "print (1-rfmodel.score(X_tst,y_tst))\n",
    "\n",
    "predict_proba = rfmodel.predict_proba(X_tst)\n",
    "fpr_rf, tpr_rf, thresholds_rf = metrics.roc_curve(y_tst, predict_proba[:,1])\n",
    "roc_auc_rf = metrics.auc(fpr_rf, tpr_rf)"
   ]
  },
  {
   "cell_type": "code",
   "execution_count": 19,
   "metadata": {},
   "outputs": [],
   "source": [
    "#naive bayes\n",
    "from sklearn.naive_bayes import GaussianNB"
   ]
  },
  {
   "cell_type": "code",
   "execution_count": 20,
   "metadata": {},
   "outputs": [
    {
     "name": "stdout",
     "output_type": "stream",
     "text": [
      "0.35973597359735976\n",
      "0.3233472203405139\n"
     ]
    }
   ],
   "source": [
    "clf=GaussianNB()\n",
    "nbmodel=clf.fit(X_trn,y_trn)\n",
    "nbTrnErr=1-clf.score(X_trn,y_trn)\n",
    "nbValErr=1-clf.score(X_val,y_val)\n",
    "nbCValErr=1- np.mean(cross_val_score(clf,X_trn,y_trn, cv=10))\n",
    "print (nbValErr)\n",
    "print (nbCValErr)"
   ]
  },
  {
   "cell_type": "code",
   "execution_count": 21,
   "metadata": {},
   "outputs": [],
   "source": [
    "#change_____________________________\n",
    "predict_proba = nbmodel.predict_proba(X_tst)\n",
    "\n",
    "fpr_nb, tpr_nb, thresholds_nb = metrics.roc_curve(y_tst, predict_proba[:,1])\n",
    "\n",
    "roc_auc_nb = metrics.auc(fpr_nb, tpr_nb)"
   ]
  },
  {
   "cell_type": "code",
   "execution_count": 22,
   "metadata": {},
   "outputs": [],
   "source": [
    "#logistic regression\n",
    "from sklearn.linear_model import LogisticRegression"
   ]
  },
  {
   "cell_type": "code",
   "execution_count": 23,
   "metadata": {},
   "outputs": [
    {
     "name": "stdout",
     "output_type": "stream",
     "text": [
      "0.3927392739273927\n",
      "0.3829566906019961\n"
     ]
    }
   ],
   "source": [
    "clf = LogisticRegression(random_state=0, solver='liblinear')\n",
    "lrmodel=clf.fit(X_trn,y_trn)\n",
    "lrTrnErr=1-clf.score(X_trn,y_trn)\n",
    "lrValErr=1-clf.score(X_val,y_val)\n",
    "lrCValErr=1- np.mean(cross_val_score(clf,X_trn,y_trn, cv=10))\n",
    "print (lrValErr)\n",
    "print (lrCValErr)"
   ]
  },
  {
   "cell_type": "code",
   "execution_count": 24,
   "metadata": {},
   "outputs": [],
   "source": [
    "#change_____________________________\n",
    "predict_proba = lrmodel.predict_proba(X_tst)\n",
    "\n",
    "fpr_lr, tpr_lr, thresholds_lr = metrics.roc_curve(y_tst, predict_proba[:,1])\n",
    "\n",
    "roc_auc_lr = metrics.auc(fpr_lr, tpr_lr)"
   ]
  },
  {
   "cell_type": "code",
   "execution_count": 25,
   "metadata": {},
   "outputs": [],
   "source": [
    "#Boosting\n",
    "from xgboost import XGBClassifier"
   ]
  },
  {
   "cell_type": "code",
   "execution_count": 26,
   "metadata": {},
   "outputs": [
    {
     "name": "stdout",
     "output_type": "stream",
     "text": [
      "0.2178217821782178\n"
     ]
    }
   ],
   "source": [
    "clf=XGBClassifier()\n",
    "xgbmodel=clf.fit(X_trn,y_trn)\n",
    "xgbTrnErr=1-clf.score(X_trn,y_trn)\n",
    "xgbValErr=1-clf.score(X_val,y_val)\n",
    "print (xgbValErr)"
   ]
  },
  {
   "cell_type": "code",
   "execution_count": 27,
   "metadata": {},
   "outputs": [
    {
     "data": {
      "image/png": "[encoded data removed]",
      "text/plain": [
       "<Figure size 432x288 with 1 Axes>"
      ]
     },
     "metadata": {
      "needs_background": "light"
     },
     "output_type": "display_data"
    }
   ],
   "source": [
    "#change___________________________________\n",
    "from sklearn import metrics\n",
    "\n",
    "plt.figure()\n",
    "\n",
    "plt.plot(fpr_kn, tpr_kn, lw=2, label = 'ROC curve KN (area = %0.4f)'% roc_auc_kn)\n",
    "plt.plot(fpr_rf, tpr_rf, lw=2, label = 'ROC curve RF (area = %0.4f)'% roc_auc_rf)\n",
    "plt.plot(fpr_nb, tpr_nb, lw=2, label = 'ROC curve NB (area = %0.4f)'% roc_auc_nb)\n",
    "plt.plot(fpr_lr, tpr_lr, lw=2, label = 'ROC curve LR (area = %0.4f)'% roc_auc_lr)\n",
    "\n",
    "plt.plot([0,1],[0,1],lw=2,linestyle='--')\n",
    "\n",
    "plt.xlabel('False Positive Rate')\n",
    "plt.ylabel('True Positive Rate')\n",
    "plt.legend(loc='lower right')\n",
    "plt.show()"
   ]
  }
 ],
 "metadata": {
  "kernelspec": {
   "display_name": "Python 3",
   "language": "python",
   "name": "python3"
  },
  "language_info": {
   "codemirror_mode": {
    "name": "ipython",
    "version": 3
   },
   "file_extension": ".py",
   "mimetype": "text/x-python",
   "name": "python",
   "nbconvert_exporter": "python",
   "pygments_lexer": "ipython3",
   "version": "3.6.8"
  }
 },
 "nbformat": 4,
 "nbformat_minor": 2
}
